{
  "nbformat": 4,
  "nbformat_minor": 0,
  "metadata": {
    "colab": {
      "provenance": [],
      "gpuType": "T4",
      "authorship_tag": "ABX9TyP1cPNbh+Sv+CJz/0/Qjcpk",
      "include_colab_link": true
    },
    "kernelspec": {
      "name": "python3",
      "display_name": "Python 3"
    },
    "language_info": {
      "name": "python"
    },
    "accelerator": "GPU"
  },
  "cells": [
    {
      "cell_type": "markdown",
      "metadata": {
        "id": "view-in-github",
        "colab_type": "text"
      },
      "source": [
        "<a href=\"https://colab.research.google.com/github/raihanewubd/CNNwithEvolutionary-algorithms/blob/main/CNNwithEvolutionaryV2.ipynb\" target=\"_parent\"><img src=\"https://colab.research.google.com/assets/colab-badge.svg\" alt=\"Open In Colab\"/></a>"
      ]
    },
    {
      "cell_type": "code",
      "source": [
        "import torch\n",
        "import torch.nn as nn\n",
        "import torch.nn.functional as F\n",
        "import torch.optim as optim\n",
        "from torchvision import datasets, transforms\n",
        "from torch.utils.data import DataLoader\n",
        "\n",
        "import matplotlib.pyplot as plt\n",
        "import numpy as np"
      ],
      "metadata": {
        "id": "BUMGvoFz-mDc"
      },
      "execution_count": 1,
      "outputs": []
    },
    {
      "cell_type": "code",
      "source": [
        "# Hyperparameters\n",
        "batch_size = 64\n",
        "learning_rate = 0.001\n",
        "num_epochs = 10\n",
        "\n",
        "# Transformations for the CIFAR-10 dataset\n",
        "transform = transforms.Compose([\n",
        "    transforms.ToTensor(),\n",
        "    transforms.Normalize((0.5, 0.5, 0.5), (0.5, 0.5, 0.5))  # Normalize to [-1, 1]\n",
        "])"
      ],
      "metadata": {
        "id": "e6DHor1J-ugK"
      },
      "execution_count": 2,
      "outputs": []
    },
    {
      "cell_type": "code",
      "source": [
        "# Load CIFAR-10 dataset\n",
        "train_dataset = datasets.CIFAR10(root='./data', train=True, download=True, transform=transform)\n",
        "test_dataset = datasets.CIFAR10(root='./data', train=False, download=True, transform=transform)\n",
        "\n",
        "train_loader = DataLoader(train_dataset, batch_size=batch_size, shuffle=True)\n",
        "test_loader = DataLoader(test_dataset, batch_size=batch_size, shuffle=False)"
      ],
      "metadata": {
        "colab": {
          "base_uri": "https://localhost:8080/"
        },
        "id": "l1XPCt1L-wE2",
        "outputId": "fd5dac32-1b50-45d5-da6d-261cc9f2d6fb"
      },
      "execution_count": 3,
      "outputs": [
        {
          "output_type": "stream",
          "name": "stdout",
          "text": [
            "Downloading https://www.cs.toronto.edu/~kriz/cifar-10-python.tar.gz to ./data/cifar-10-python.tar.gz\n"
          ]
        },
        {
          "output_type": "stream",
          "name": "stderr",
          "text": [
            "100%|██████████| 170M/170M [00:03<00:00, 47.0MB/s]\n"
          ]
        },
        {
          "output_type": "stream",
          "name": "stdout",
          "text": [
            "Extracting ./data/cifar-10-python.tar.gz to ./data\n",
            "Files already downloaded and verified\n"
          ]
        }
      ]
    },
    {
      "cell_type": "code",
      "source": [
        "train_dataset[0][0].shape"
      ],
      "metadata": {
        "colab": {
          "base_uri": "https://localhost:8080/"
        },
        "id": "Pq_6Am_C_pdm",
        "outputId": "c01ffcd2-9405-4075-8e87-06d8b68e1e3b"
      },
      "execution_count": 4,
      "outputs": [
        {
          "output_type": "execute_result",
          "data": {
            "text/plain": [
              "torch.Size([3, 32, 32])"
            ]
          },
          "metadata": {},
          "execution_count": 4
        }
      ]
    },
    {
      "cell_type": "code",
      "source": [
        "train_dataset[0][1]"
      ],
      "metadata": {
        "colab": {
          "base_uri": "https://localhost:8080/"
        },
        "id": "Qh0BizXZAcY5",
        "outputId": "58ae001f-28db-4c5e-8d20-1c1ce3ddb1c0"
      },
      "execution_count": 5,
      "outputs": [
        {
          "output_type": "execute_result",
          "data": {
            "text/plain": [
              "6"
            ]
          },
          "metadata": {},
          "execution_count": 5
        }
      ]
    },
    {
      "cell_type": "code",
      "source": [
        "print(f\"{len(train_dataset)} {type(train_dataset)}\")\n"
      ],
      "metadata": {
        "colab": {
          "base_uri": "https://localhost:8080/"
        },
        "id": "JjmDZy1T_sO_",
        "outputId": "4a1c762c-5895-4eea-fde6-c1b21ca2d931"
      },
      "execution_count": 6,
      "outputs": [
        {
          "output_type": "stream",
          "name": "stdout",
          "text": [
            "50000 <class 'torchvision.datasets.cifar.CIFAR10'>\n"
          ]
        }
      ]
    },
    {
      "cell_type": "code",
      "source": [
        "# Get the image tensor\n",
        "image_tensor = train_dataset[0][0]\n",
        "\n",
        "# Convert the image tensor to a NumPy array\n",
        "image_np = image_tensor.numpy()\n",
        "\n",
        "# Transpose the dimensions to (height, width, channels) for Matplotlib\n",
        "image_np = np.transpose(image_np, (1, 2, 0))\n",
        "\n",
        "# Un-normalize the image if you normalized it during preprocessing\n",
        "# Assuming you normalized to [-1, 1] using transforms.Normalize((0.5, 0.5, 0.5), (0.5, 0.5, 0.5))\n",
        "image_np = (image_np * 0.5) + 0.5  # Un-normalize to [0, 1]\n",
        "\n",
        "# Clip values to be in the range [0, 1]\n",
        "image_np = np.clip(image_np, 0, 1)\n",
        "\n",
        "# Display the image using Matplotlib\n",
        "plt.imshow(image_np)\n",
        "plt.title(\"First Image in CIFAR-10 Training Dataset\")\n",
        "plt.axis('off')  # Turn off axis ticks and labels\n",
        "plt.show()"
      ],
      "metadata": {
        "colab": {
          "base_uri": "https://localhost:8080/",
          "height": 428
        },
        "id": "8lNaQwicAu3o",
        "outputId": "91a5fe7a-7444-4e59-873a-dbf69a3c0e11"
      },
      "execution_count": 7,
      "outputs": [
        {
          "output_type": "display_data",
          "data": {
            "text/plain": [
              "<Figure size 640x480 with 1 Axes>"
            ],
            "image/png": "[encoded data removed]"
          },
          "metadata": {}
        }
      ]
    },
    {
      "cell_type": "code",
      "source": [
        "def get_flat_params(model):\n",
        "    # Get all model parameters as a flattened numpy array\n",
        "    return np.concatenate([param.data.cpu().numpy().flatten() for param in model.parameters()])\n",
        "\n",
        "def set_flat_params(model, flat_params):\n",
        "    # Set model parameters from a flattened numpy array\n",
        "    idx = 0\n",
        "    for param in model.parameters():\n",
        "        param_size = param.numel()\n",
        "        param.data = torch.tensor(flat_params[idx:idx + param_size].reshape(param.size())).to(param.device)\n",
        "        idx += param_size\n"
      ],
      "metadata": {
        "id": "Yjm07lDpWuYD"
      },
      "execution_count": 8,
      "outputs": []
    },
    {
      "cell_type": "code",
      "source": [
        "def evaluate_model(model, dataloader, criterion):\n",
        "    # Calculate loss for a single epoch\n",
        "    model.eval()\n",
        "    total_loss = 0\n",
        "    with torch.no_grad():\n",
        "        for inputs, labels in dataloader:\n",
        "            inputs, labels = inputs.to(device), labels.to(device)\n",
        "            outputs = model(inputs)\n",
        "            loss = criterion(outputs, labels)\n",
        "            total_loss += loss.item()\n",
        "    return total_loss / len(dataloader)\n"
      ],
      "metadata": {
        "id": "Sllil_CLWyM3"
      },
      "execution_count": 9,
      "outputs": []
    },
    {
      "cell_type": "code",
      "source": [
        "def differential_evolution(objective_fn, bounds, population_size=10, generations=50, F=0.5, CR=0.7):\n",
        "    # Initialize population\n",
        "    population = [np.random.uniform(low, high, size=bounds.shape[0]) for low, high in bounds]\n",
        "    best_solution = None\n",
        "    best_score = float('inf')\n",
        "\n",
        "    for gen in range(generations):\n",
        "        new_population = []\n",
        "        for i in range(population_size):\n",
        "            # Mutation: Generate a candidate solution\n",
        "            a, b, c = np.random.choice([j for j in range(population_size) if j != i], 3, replace=False)\n",
        "            mutant = population[a] + F * (population[b] - population[c])\n",
        "            mutant = np.clip(mutant, bounds[:, 0], bounds[:, 1])  # Ensure bounds\n",
        "\n",
        "            # Crossover: Combine mutant and current solution\n",
        "            trial = np.copy(population[i])\n",
        "            for j in range(bounds.shape[0]):\n",
        "                if np.random.rand() < CR:\n",
        "                    trial[j] = mutant[j]\n",
        "\n",
        "            # Evaluate and select the better solution\n",
        "            trial_score = objective_fn(trial)\n",
        "            current_score = objective_fn(population[i])\n",
        "\n",
        "            if trial_score < current_score:\n",
        "                new_population.append(trial)\n",
        "                if trial_score < best_score:\n",
        "                    best_solution, best_score = trial, trial_score\n",
        "            else:\n",
        "                new_population.append(population[i])\n",
        "\n",
        "        population = new_population\n",
        "        print(f\"Generation {gen+1}/{generations}, Best Score: {best_score}\")\n",
        "\n",
        "    return best_solution\n"
      ],
      "metadata": {
        "id": "MlL3nvieW2tb"
      },
      "execution_count": 10,
      "outputs": []
    },
    {
      "cell_type": "code",
      "source": [
        "class SimplifiedCNN(nn.Module):\n",
        "    def __init__(self):\n",
        "        super(SimplifiedCNN, self).__init__()\n",
        "        self.conv1 = nn.Conv2d(3, 16, kernel_size=3, padding=1)\n",
        "        self.conv2 = nn.Conv2d(16, 32, kernel_size=3, padding=1)\n",
        "        self.pool = nn.MaxPool2d(kernel_size=2, stride=2)\n",
        "        self.dropout = nn.Dropout(0.5)\n",
        "\n",
        "        dummy_input = torch.randn(1, 3, 32, 32)\n",
        "        out = self.pool(F.relu(self.conv2(F.relu(self.conv1(dummy_input)))))\n",
        "        self.feature_size = out.numel()\n",
        "\n",
        "        self.fc1 = nn.Linear(self.feature_size, 64)\n",
        "        self.fc2 = nn.Linear(64, 10)\n",
        "\n",
        "    def forward(self, x):\n",
        "        x = F.relu(self.conv1(x))\n",
        "        x = self.pool(F.relu(self.conv2(x)))\n",
        "        x = x.view(x.size(0), -1)\n",
        "        x = F.relu(self.fc1(x))\n",
        "        x = self.dropout(x)\n",
        "        x = self.fc2(x)\n",
        "        return x\n"
      ],
      "metadata": {
        "id": "hy9-ByGBXuJK"
      },
      "execution_count": 12,
      "outputs": []
    },
    {
      "cell_type": "code",
      "source": [
        "device = torch.device('cuda' if torch.cuda.is_available() else 'cpu')\n",
        "model = SimplifiedCNN().to(device)\n",
        "criterion = nn.CrossEntropyLoss()\n",
        "\n",
        "# Objective function for DE\n",
        "def objective_function(flat_params):\n",
        "    set_flat_params(model, flat_params)\n",
        "    return evaluate_model(model, train_loader, criterion)\n",
        "\n",
        "# Bounds for parameters\n",
        "flat_params = get_flat_params(model)\n",
        "bounds = np.array([(-1, 1) for _ in flat_params])  # Adjust bounds as needed\n",
        "best_params = differential_evolution(objective_function, bounds, population_size=5, generations=50)\n"
      ],
      "metadata": {
        "id": "7Tg51-9oYLay"
      },
      "execution_count": null,
      "outputs": []
    }
  ]
}