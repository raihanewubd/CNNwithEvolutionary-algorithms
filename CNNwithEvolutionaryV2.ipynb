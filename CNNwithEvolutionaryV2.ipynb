{
  "nbformat": 4,
  "nbformat_minor": 0,
  "metadata": {
    "colab": {
      "provenance": [],
      "gpuType": "T4",
      "authorship_tag": "ABX9TyPFWCUeHBysqtlabEyTLeLp",
      "include_colab_link": true
    },
    "kernelspec": {
      "name": "python3",
      "display_name": "Python 3"
    },
    "language_info": {
      "name": "python"
    },
    "accelerator": "GPU"
  },
  "cells": [
    {
      "cell_type": "markdown",
      "metadata": {
        "id": "view-in-github",
        "colab_type": "text"
      },
      "source": [
        "<a href=\"https://colab.research.google.com/github/raihanewubd/CNNwithEvolutionary-algorithms/blob/main/CNNwithEvolutionaryV2.ipynb\" target=\"_parent\"><img src=\"https://colab.research.google.com/assets/colab-badge.svg\" alt=\"Open In Colab\"/></a>"
      ]
    },
    {
      "cell_type": "code",
      "source": [
        "import torch\n",
        "import torch.nn as nn\n",
        "import torch.nn.functional as F\n",
        "import torch.optim as optim\n",
        "from torchvision import datasets, transforms\n",
        "from torch.utils.data import DataLoader\n",
        "\n",
        "import matplotlib.pyplot as plt\n",
        "import numpy as np\n",
        "import psutil"
      ],
      "metadata": {
        "id": "BUMGvoFz-mDc"
      },
      "execution_count": 1,
      "outputs": []
    },
    {
      "cell_type": "code",
      "source": [
        "# Hyperparameters\n",
        "batch_size = 64\n",
        "learning_rate = 0.001\n",
        "num_epochs = 10\n",
        "\n",
        "# Transformations for the CIFAR-10 dataset\n",
        "transform = transforms.Compose([\n",
        "    transforms.ToTensor(),\n",
        "    transforms.Normalize((0.5, 0.5, 0.5), (0.5, 0.5, 0.5))  # Normalize to [-1, 1]\n",
        "])"
      ],
      "metadata": {
        "id": "e6DHor1J-ugK"
      },
      "execution_count": 2,
      "outputs": []
    },
    {
      "cell_type": "code",
      "source": [
        "# Load CIFAR-10 dataset\n",
        "train_dataset = datasets.CIFAR10(root='./data', train=True, download=True, transform=transform)\n",
        "test_dataset = datasets.CIFAR10(root='./data', train=False, download=True, transform=transform)\n",
        "\n",
        "train_loader = DataLoader(train_dataset, batch_size=batch_size, shuffle=True)\n",
        "test_loader = DataLoader(test_dataset, batch_size=batch_size, shuffle=False)"
      ],
      "metadata": {
        "colab": {
          "base_uri": "https://localhost:8080/"
        },
        "id": "l1XPCt1L-wE2",
        "outputId": "37a89f2b-a023-4852-d49e-fbce8a6d84bc"
      },
      "execution_count": 3,
      "outputs": [
        {
          "output_type": "stream",
          "name": "stdout",
          "text": [
            "Downloading https://www.cs.toronto.edu/~kriz/cifar-10-python.tar.gz to ./data/cifar-10-python.tar.gz\n"
          ]
        },
        {
          "output_type": "stream",
          "name": "stderr",
          "text": [
            "100%|██████████| 170M/170M [00:02<00:00, 85.2MB/s]\n"
          ]
        },
        {
          "output_type": "stream",
          "name": "stdout",
          "text": [
            "Extracting ./data/cifar-10-python.tar.gz to ./data\n",
            "Files already downloaded and verified\n"
          ]
        }
      ]
    },
    {
      "cell_type": "code",
      "source": [
        "train_dataset[0][0].shape"
      ],
      "metadata": {
        "colab": {
          "base_uri": "https://localhost:8080/"
        },
        "id": "Pq_6Am_C_pdm",
        "outputId": "81b5656f-d149-46da-b1cc-42165ce282d2"
      },
      "execution_count": 138,
      "outputs": [
        {
          "output_type": "execute_result",
          "data": {
            "text/plain": [
              "torch.Size([3, 32, 32])"
            ]
          },
          "metadata": {},
          "execution_count": 138
        }
      ]
    },
    {
      "cell_type": "code",
      "source": [
        "train_dataset[0][1]"
      ],
      "metadata": {
        "colab": {
          "base_uri": "https://localhost:8080/"
        },
        "id": "Qh0BizXZAcY5",
        "outputId": "73f953e8-eb4d-468e-938e-0f0a2a7e3a03"
      },
      "execution_count": 139,
      "outputs": [
        {
          "output_type": "execute_result",
          "data": {
            "text/plain": [
              "6"
            ]
          },
          "metadata": {},
          "execution_count": 139
        }
      ]
    },
    {
      "cell_type": "code",
      "source": [
        "print(f\"{len(train_dataset)} {type(train_dataset)}\")\n"
      ],
      "metadata": {
        "colab": {
          "base_uri": "https://localhost:8080/"
        },
        "id": "JjmDZy1T_sO_",
        "outputId": "e140ded8-90f8-4a56-d7b9-578ad0755d14"
      },
      "execution_count": 140,
      "outputs": [
        {
          "output_type": "stream",
          "name": "stdout",
          "text": [
            "50000 <class 'torchvision.datasets.cifar.CIFAR10'>\n"
          ]
        }
      ]
    },
    {
      "cell_type": "code",
      "source": [
        "# Get the image tensor\n",
        "image_tensor = train_dataset[0][0]\n",
        "\n",
        "# Convert the image tensor to a NumPy array\n",
        "image_np = image_tensor.numpy()\n",
        "\n",
        "# Transpose the dimensions to (height, width, channels) for Matplotlib\n",
        "image_np = np.transpose(image_np, (1, 2, 0))\n",
        "\n",
        "# Un-normalize the image if you normalized it during preprocessing\n",
        "# Assuming you normalized to [-1, 1] using transforms.Normalize((0.5, 0.5, 0.5), (0.5, 0.5, 0.5))\n",
        "image_np = (image_np * 0.5) + 0.5  # Un-normalize to [0, 1]\n",
        "\n",
        "# Clip values to be in the range [0, 1]\n",
        "image_np = np.clip(image_np, 0, 1)\n",
        "\n",
        "# Display the image using Matplotlib\n",
        "plt.imshow(image_np)\n",
        "plt.title(\"First Image in CIFAR-10 Training Dataset\")\n",
        "plt.axis('off')  # Turn off axis ticks and labels\n",
        "plt.show()"
      ],
      "metadata": {
        "colab": {
          "base_uri": "https://localhost:8080/",
          "height": 428
        },
        "id": "8lNaQwicAu3o",
        "outputId": "6996e976-ac9d-4ff6-bb2a-9c274c9745c4"
      },
      "execution_count": 141,
      "outputs": [
        {
          "output_type": "display_data",
          "data": {
            "text/plain": [
              "<Figure size 640x480 with 1 Axes>"
            ],
            "image/png": "[encoded data removed]"
          },
          "metadata": {}
        }
      ]
    },
    {
      "cell_type": "code",
      "source": [
        "class SimplifiedCNN(nn.Module):\n",
        "    def __init__(self):\n",
        "        super(SimplifiedCNN, self).__init__()\n",
        "        self.conv1 = nn.Conv2d(3, 16, kernel_size=3, padding=1)\n",
        "        self.conv2 = nn.Conv2d(16, 32, kernel_size=3, padding=1)\n",
        "        self.pool = nn.MaxPool2d(kernel_size=2, stride=2)\n",
        "        self.dropout = nn.Dropout(0.5)\n",
        "\n",
        "        dummy_input = torch.randn(1, 3, 32, 32)\n",
        "        out = self.pool(F.relu(self.conv2(F.relu(self.conv1(dummy_input)))))\n",
        "        self.feature_size = out.numel()\n",
        "\n",
        "        self.fc1 = nn.Linear(self.feature_size, 64)\n",
        "        self.fc2 = nn.Linear(64, 10)\n",
        "\n",
        "    def forward(self, x):\n",
        "        x = F.relu(self.conv1(x))\n",
        "        x = self.pool(F.relu(self.conv2(x)))\n",
        "        x = x.view(x.size(0), -1)\n",
        "        x = F.relu(self.fc1(x))\n",
        "        x = self.dropout(x)\n",
        "        x = self.fc2(x)\n",
        "        return x\n"
      ],
      "metadata": {
        "id": "hy9-ByGBXuJK"
      },
      "execution_count": 4,
      "outputs": []
    },
    {
      "cell_type": "code",
      "source": [
        "# Training Loop\n",
        "def train(model, train_loader, criterion, optimizer, num_epochs):\n",
        "    model.train()\n",
        "    for epoch in range(num_epochs):\n",
        "        total_loss = 0\n",
        "        for inputs, labels in train_loader:\n",
        "            inputs, labels = inputs.to(device), labels.to(device)\n",
        "\n",
        "            # Forward pass\n",
        "            outputs = model(inputs)\n",
        "            loss = criterion(outputs, labels)\n",
        "\n",
        "            # Backward pass and optimization\n",
        "            optimizer.zero_grad()\n",
        "            loss.backward()\n",
        "            optimizer.step()\n",
        "\n",
        "            total_loss += loss.item()\n",
        "\n",
        "        avg_loss = total_loss / len(train_loader)\n",
        "        print(f\"Epoch [{epoch + 1}/{num_epochs}], Loss: {avg_loss:.4f}\")"
      ],
      "metadata": {
        "id": "T9jxBlLJtoFe"
      },
      "execution_count": 143,
      "outputs": []
    },
    {
      "cell_type": "code",
      "source": [
        "# Testing Loop\n",
        "def test(model, test_loader, criterion):\n",
        "    model.eval()\n",
        "    total_loss = 0\n",
        "    total_correct = 0\n",
        "    total_samples = 0\n",
        "\n",
        "    with torch.no_grad():\n",
        "        for inputs, labels in test_loader:\n",
        "            inputs, labels = inputs.to(device), labels.to(device)\n",
        "\n",
        "            # Forward pass\n",
        "            outputs = model(inputs)\n",
        "\n",
        "            # Compute loss\n",
        "            loss = criterion(outputs, labels)\n",
        "            total_loss += loss.item() * inputs.size(0)\n",
        "\n",
        "            # Compute accuracy\n",
        "            _, predicted = torch.max(outputs, 1)\n",
        "            total_correct += (predicted == labels).sum().item()\n",
        "            total_samples += labels.size(0)\n",
        "\n",
        "    avg_loss = total_loss / total_samples\n",
        "    accuracy = total_correct / total_samples\n",
        "    print(f\"Test Loss: {avg_loss:.4f}, Test Accuracy: {accuracy:.4f}\")"
      ],
      "metadata": {
        "id": "ORyw93nvtq-k"
      },
      "execution_count": 144,
      "outputs": []
    },
    {
      "cell_type": "code",
      "source": [
        "# Define Model, Loss Function, and Optimizer\n",
        "device = torch.device('cuda' if torch.cuda.is_available() else 'cpu')\n",
        "model = SimplifiedCNN().to(device)\n",
        "criterion = nn.CrossEntropyLoss()\n",
        "optimizer = optim.Adam(model.parameters(), lr=learning_rate)"
      ],
      "metadata": {
        "id": "CZOcgfNCtjkr"
      },
      "execution_count": 145,
      "outputs": []
    },
    {
      "cell_type": "code",
      "source": [
        "# Train and Test the Model\n",
        "train(model, train_loader, criterion, optimizer, num_epochs)\n",
        "test(model, test_loader, criterion)"
      ],
      "metadata": {
        "colab": {
          "base_uri": "https://localhost:8080/"
        },
        "id": "kj7fBeL_tuTb",
        "outputId": "e6c644a0-ddd7-4109-9674-ee2ebd797a3a"
      },
      "execution_count": 146,
      "outputs": [
        {
          "output_type": "stream",
          "name": "stdout",
          "text": [
            "Epoch [1/10], Loss: 1.6646\n",
            "Epoch [2/10], Loss: 1.4145\n",
            "Epoch [3/10], Loss: 1.2895\n",
            "Epoch [4/10], Loss: 1.2213\n",
            "Epoch [5/10], Loss: 1.1700\n",
            "Epoch [6/10], Loss: 1.1297\n",
            "Epoch [7/10], Loss: 1.0939\n",
            "Epoch [8/10], Loss: 1.0596\n",
            "Epoch [9/10], Loss: 1.0374\n",
            "Epoch [10/10], Loss: 1.0051\n",
            "Test Loss: 0.9640, Test Accuracy: 0.6621\n"
          ]
        }
      ]
    },
    {
      "cell_type": "code",
      "source": [
        "def get_flat_params(model):\n",
        "    # Get all model parameters as a flattened numpy array\n",
        "    return np.concatenate([param.data.cpu().numpy().flatten() for param in model.parameters()])\n",
        "\n",
        "#def set_flat_params(model, flat_params):\n",
        "    # Set model parameters from a flattened numpy array\n",
        "#    idx = 0\n",
        "    #for param in model.parameters():\n",
        "     #   param_size = param.numel()\n",
        "      #  param.data = torch.tensor(flat_params[idx:idx + param_size].reshape(param.size())).to(param.device)\n",
        "       # idx += param_size\n"
      ],
      "metadata": {
        "id": "Yjm07lDpWuYD"
      },
      "execution_count": 5,
      "outputs": []
    },
    {
      "cell_type": "code",
      "source": [
        "def set_flat_params(model, flat_params):\n",
        "    idx = 0\n",
        "    flat_params = torch.tensor(flat_params, dtype=torch.float32, device=next(model.parameters()).device)\n",
        "    for param in model.parameters():\n",
        "        param_size = param.numel()\n",
        "        param.data = flat_params[idx:idx + param_size].view(param.size())\n",
        "        idx += param_size"
      ],
      "metadata": {
        "id": "HpGB0BtSnqJ8"
      },
      "execution_count": 6,
      "outputs": []
    },
    {
      "cell_type": "code",
      "source": [
        "def evaluate_model(model, dataloader, criterion):\n",
        "    # Calculate loss for a single epoch\n",
        "    model.eval()\n",
        "    total_loss = 0\n",
        "    with torch.no_grad():\n",
        "        for inputs, labels in dataloader:\n",
        "            inputs, labels = inputs.to(device), labels.to(device)\n",
        "            outputs = model(inputs)\n",
        "            loss = criterion(outputs, labels)\n",
        "            total_loss += loss.item()\n",
        "    return total_loss / len(dataloader)\n"
      ],
      "metadata": {
        "id": "Sllil_CLWyM3"
      },
      "execution_count": 7,
      "outputs": []
    },
    {
      "cell_type": "code",
      "source": [
        "def print_memory_usage():\n",
        "    \"\"\"Print the memory usage of the current process.\"\"\"\n",
        "    process = psutil.Process()\n",
        "    memory_info = process.memory_info()\n",
        "    print(f\"Memory Usage: {memory_info.rss / (1024 ** 2):.2f} MB\")  # Resident Set Size (RSS) in MB"
      ],
      "metadata": {
        "id": "oW-V8lrPj4Bs"
      },
      "execution_count": 8,
      "outputs": []
    },
    {
      "cell_type": "code",
      "source": [
        "def differential_evolution(fitness_function, bounds, population_size=20, generations=100, mutation=0.8, recombination=0.7):\n",
        "    dim = len(bounds)\n",
        "    population = np.random.rand(population_size, dim)\n",
        "    for i, (low, high) in enumerate(bounds):\n",
        "        population[:, i] = low + population[:, i] * (high - low)\n",
        "\n",
        "    best_params = population[0]  # Initialize with the first individual\n",
        "    best_score = float(\"inf\")\n",
        "\n",
        "    for gen in range(generations):\n",
        "        print(f\"Generation {gen + 1}\")\n",
        "        print_memory_usage()\n",
        "\n",
        "        generation_loss = []\n",
        "        generation_accuracy = []\n",
        "        print(f\"Generation begin population size\")\n",
        "        for i in range(population_size):\n",
        "            if (i + 1) % 50 == 0:\n",
        "              print('.', end='', flush=True)\n",
        "            idxs = [idx for idx in range(population_size) if idx != i]\n",
        "            a, b, c = population[np.random.choice(idxs, 3, replace=False)]\n",
        "            mutant = np.clip(a + mutation * (b - c), 0, 1)\n",
        "            trial = np.copy(population[i])\n",
        "            for j in range(dim):\n",
        "                if np.random.rand() < recombination:\n",
        "                    trial[j] = mutant[j]\n",
        "\n",
        "            # Evaluate fitness and accuracy\n",
        "            fitness, accuracy = fitness_function(trial)\n",
        "            generation_loss.append(fitness)\n",
        "            generation_accuracy.append(accuracy)\n",
        "\n",
        "            if fitness < fitness_function(population[i])[0]:  # Compare fitness only\n",
        "                population[i] = trial\n",
        "                if fitness < best_score:\n",
        "                    best_score = fitness\n",
        "                    best_params = trial\n",
        "\n",
        "        # Log average loss and accuracy for the generation\n",
        "        avg_loss = sum(generation_loss) / len(generation_loss)\n",
        "        avg_accuracy = sum(generation_accuracy) / len(generation_accuracy)\n",
        "        print(f\"Generation {gen + 1} - Average Loss: {avg_loss:.4f}, Average Accuracy: {avg_accuracy:.4f} -Best Loss So Far: {best_score}- Memory Uasage{print_memory_usage()}\")\n",
        "\n",
        "    return best_params, best_score\n",
        "\n",
        "\n"
      ],
      "metadata": {
        "id": "MlL3nvieW2tb"
      },
      "execution_count": 15,
      "outputs": []
    },
    {
      "cell_type": "code",
      "source": [
        "def objective_functionV1(params, model, input_tensor, target_tensor, loss_function):\n",
        "    # Set model parameters\n",
        "    set_flat_params(model, params)\n",
        "\n",
        "    # Forward pass\n",
        "    output = model(input_tensor)\n",
        "\n",
        "    # Compute loss\n",
        "    loss = loss_function(output, target_tensor.long()).item()\n",
        "\n",
        "    # Compute accuracy\n",
        "    _, predicted = torch.max(output, 1)\n",
        "    accuracy = (predicted == target_tensor).sum().item() / target_tensor.size(0)\n",
        "\n",
        "    return loss, accuracy"
      ],
      "metadata": {
        "id": "1MjAK1YdkZ1w"
      },
      "execution_count": 10,
      "outputs": []
    },
    {
      "cell_type": "code",
      "source": [
        "def objective_function(params, model, dataloader, loss_function):\n",
        "    set_flat_params(model, params)\n",
        "    model.eval()\n",
        "    total_loss = 0\n",
        "    total_correct = 0\n",
        "    total_samples = 0\n",
        "\n",
        "    with torch.no_grad():\n",
        "        for inputs, labels in dataloader:\n",
        "            inputs, labels = inputs.to(device), labels.to(device)\n",
        "            outputs = model(inputs)\n",
        "            loss = loss_function(outputs, labels).item()\n",
        "            total_loss += loss * inputs.size(0)\n",
        "            _, predicted = torch.max(outputs, 1)\n",
        "            total_correct += (predicted == labels).sum().item()\n",
        "            total_samples += labels.size(0)\n",
        "\n",
        "    avg_loss = total_loss / total_samples\n",
        "    accuracy = total_correct / total_samples\n",
        "    return avg_loss, accuracy"
      ],
      "metadata": {
        "id": "RaOYYp-J6WIF"
      },
      "execution_count": 11,
      "outputs": []
    },
    {
      "cell_type": "code",
      "source": [
        "device = torch.device('cuda' if torch.cuda.is_available() else 'cpu')\n",
        "print(f\"Usage device {device}\")\n",
        "model = SimplifiedCNN().to(device)\n",
        "criterion = nn.CrossEntropyLoss()\n",
        "\n",
        "# Objective function for DE\n",
        "#def objective_function(flat_params):\n",
        "#    set_flat_params(model, flat_params)\n",
        "#    return evaluate_model(model, train_loader, criterion)\n",
        "\n",
        "# Prepare input and target tensors\n",
        "input_tensor, target_tensor = next(iter(train_loader))\n",
        "input_tensor, target_tensor = input_tensor.to(device), target_tensor.to(device)\n",
        "\n",
        "# Bounds for parameters\n",
        "flat_params = get_flat_params(model)\n",
        "bounds = np.array([(-1, 1) for _ in flat_params])  # Adjust bounds as needed\n",
        "#best_params = differential_evolution(objective_function, bounds, population_size=5, generations=50)\n",
        "best_params = differential_evolution(\n",
        "    #lambda params: objective_function(params, model, input_tensor, target_tensor, criterion),\n",
        "\n",
        "    lambda params: objective_function(params, model, train_loader, criterion),\n",
        "    bounds,\n",
        "    population_size=10,\n",
        "    generations=100\n",
        ")"
      ],
      "metadata": {
        "id": "7Tg51-9oYLay",
        "colab": {
          "base_uri": "https://localhost:8080/"
        },
        "outputId": "f7805173-d61f-47aa-9f76-008b6593f96a"
      },
      "execution_count": null,
      "outputs": [
        {
          "output_type": "stream",
          "name": "stdout",
          "text": [
            "Usage device cpu\n",
            "Generation 1\n",
            "Memory Usage: 1609.68 MB\n",
            "Generation begin population size\n"
          ]
        }
      ]
    },
    {
      "cell_type": "code",
      "source": [
        "def evaluate_model_on_test(model, dataloader, criterion):\n",
        "    \"\"\"\n",
        "    Evaluate the model on the test dataset and calculate accuracy and loss.\n",
        "    \"\"\"\n",
        "    model.eval()\n",
        "    total_loss = 0\n",
        "    total_correct = 0\n",
        "    total_samples = 0\n",
        "\n",
        "    with torch.no_grad():\n",
        "        for inputs, labels in dataloader:\n",
        "            inputs, labels = inputs.to(device), labels.to(device)\n",
        "            outputs = model(inputs)\n",
        "\n",
        "            # Compute loss\n",
        "            loss = criterion(outputs, labels)\n",
        "            total_loss += loss.item() * inputs.size(0)\n",
        "\n",
        "            # Compute accuracy\n",
        "            _, predicted = torch.max(outputs, 1)\n",
        "            total_correct += (predicted == labels).sum().item()\n",
        "            total_samples += labels.size(0)\n",
        "\n",
        "    avg_loss = total_loss / total_samples\n",
        "    accuracy = total_correct / total_samples\n",
        "    return avg_loss, accuracy\n"
      ],
      "metadata": {
        "id": "vb2NKgBkqjUE"
      },
      "execution_count": 154,
      "outputs": []
    },
    {
      "cell_type": "code",
      "source": [
        "if best_params is None:\n",
        "    raise ValueError(\"Optimization failed: best_params is None.\")\n",
        "\n",
        "# Set the best parameters to the model\n",
        "set_flat_params(model, best_params[0])\n",
        "\n",
        "# Evaluate on the test dataset\n",
        "test_loss, test_accuracy = evaluate_model_on_test(model, test_loader, criterion)\n",
        "\n",
        "# Print the test results\n",
        "print(f\"Final Test Loss: {test_loss:.4f}\")\n",
        "print(f\"Final Test Accuracy: {test_accuracy:.4f}\")\n"
      ],
      "metadata": {
        "colab": {
          "base_uri": "https://localhost:8080/"
        },
        "id": "7py-E1CCqmPo",
        "outputId": "c41b34da-349c-4a1d-dce0-3da753dbaf8b"
      },
      "execution_count": 155,
      "outputs": [
        {
          "output_type": "stream",
          "name": "stdout",
          "text": [
            "Final Test Loss: 1885.5419\n",
            "Final Test Accuracy: 0.0907\n"
          ]
        }
      ]
    },
    {
      "cell_type": "code",
      "source": [
        "def display_test_result(model, test_loader, device, class_names):\n",
        "    \"\"\"\n",
        "    Displays a single test image with its predicted and actual label.\n",
        "    \"\"\"\n",
        "    model.eval()\n",
        "\n",
        "    # Get a single batch from the test loader\n",
        "    dataiter = iter(test_loader)\n",
        "    images, labels = next(dataiter)\n",
        "\n",
        "    # Move data to the appropriate device\n",
        "    images, labels = images.to(device), labels.to(device)\n",
        "\n",
        "    # Get predictions\n",
        "    outputs = model(images)\n",
        "    _, predicted = torch.max(outputs, 1)\n",
        "\n",
        "    # Choose an image to display (e.g., the first image in the batch)\n",
        "    image_index = 0\n",
        "    image = images[image_index].cpu()  # Move image to CPU for plotting\n",
        "    label = labels[image_index].item()\n",
        "    prediction = predicted[image_index].item()\n",
        "\n",
        "    # Un-normalize the image for display\n",
        "    image = (image * 0.5) + 0.5  # Un-normalize to [0, 1]\n",
        "    image = np.transpose(image.numpy(), (1, 2, 0))  # Transpose for Matplotlib\n",
        "\n",
        "    # Display the image\n",
        "    plt.imshow(image)\n",
        "    plt.title(f\"Predicted: {class_names[prediction]}, Actual: {class_names[label]}\")\n",
        "    plt.axis('off')\n",
        "    plt.show()\n",
        "\n",
        "# ... (Previous code remains the same) ...\n",
        "\n",
        "# CIFAR-10 class names\n",
        "class_names = ['airplane', 'automobile', 'bird', 'cat', 'deer', 'dog', 'frog', 'horse', 'ship', 'truck']\n",
        "\n",
        "# Set the best parameters to the model\n",
        "set_flat_params(model, best_params[0])\n",
        "\n",
        "# Display one test result\n",
        "display_test_result(model, test_loader, device, class_names)\n",
        "\n",
        "# Evaluate on the test dataset and print overall results\n",
        "test_loss, test_accuracy = evaluate_model_on_test(model, test_loader, criterion)\n",
        "print(f\"Final Test Loss: {test_loss:.4f}\")\n",
        "print(f\"Final Test Accuracy: {test_accuracy:.4f}\")"
      ],
      "metadata": {
        "colab": {
          "base_uri": "https://localhost:8080/",
          "height": 465
        },
        "id": "QJV2kEFmsAkJ",
        "outputId": "2db75b85-b65f-47a5-ff0d-4f60127141bb"
      },
      "execution_count": 156,
      "outputs": [
        {
          "output_type": "display_data",
          "data": {
            "text/plain": [
              "<Figure size 640x480 with 1 Axes>"
            ],
            "image/png": "[encoded data removed]"
          },
          "metadata": {}
        },
        {
          "output_type": "stream",
          "name": "stdout",
          "text": [
            "Final Test Loss: 1885.5419\n",
            "Final Test Accuracy: 0.0907\n"
          ]
        }
      ]
    }
  ]
}